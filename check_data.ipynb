{
 "cells": [
  {
   "cell_type": "code",
   "execution_count": 16,
   "metadata": {
    "collapsed": true,
    "ExecuteTime": {
     "start_time": "2023-04-09T17:07:14.743317Z",
     "end_time": "2023-04-09T17:07:14.786941Z"
    }
   },
   "outputs": [],
   "source": [
    "import pandas as pd\n",
    "import datetime as dt\n",
    "\n",
    "from load import Load\n",
    "from transform import Transform\n",
    "from save import save\n",
    "from download import DataGetter\n",
    "from pathlib import Path\n"
   ]
  },
  {
   "cell_type": "code",
   "execution_count": 17,
   "outputs": [],
   "source": [
    "diesel_sheet_name = 'DPCache_m3_2'\n",
    "oilder_sheet_name = 'DPCache_m3'\n",
    "\n",
    "sheet_file = Path('vendas.ods')\n"
   ],
   "metadata": {
    "collapsed": false,
    "ExecuteTime": {
     "start_time": "2023-04-09T17:07:14.931356Z",
     "end_time": "2023-04-09T17:07:14.989411Z"
    }
   }
  },
  {
   "cell_type": "code",
   "execution_count": 18,
   "outputs": [],
   "source": [
    "df1b = pd.read_excel(sheet_file, oilder_sheet_name)\n"
   ],
   "metadata": {
    "collapsed": false,
    "ExecuteTime": {
     "start_time": "2023-04-09T17:07:15.111496Z",
     "end_time": "2023-04-09T17:07:30.533668Z"
    }
   }
  },
  {
   "cell_type": "code",
   "execution_count": 19,
   "outputs": [],
   "source": [
    "def transform(table: pd.DataFrame) -> pd.DataFrame:\n",
    "\n",
    "    # unit of every product (hardcoded)\n",
    "    unit = 'm3'\n",
    "\n",
    "    # listing mapping brazilian months to integers\n",
    "    months = ['Jan', 'Fev', 'Mar', 'Abr', 'Mai', 'Jun', 'Jul', 'Ago', 'Set', 'Out', 'Nov', 'Dez']\n",
    "    months_to_int_d = {m: i for m, i in zip(months, range(1, 12 + 1))}\n",
    "    months_to_int = lambda x: months_to_int_d[x]\n",
    "\n",
    "    # transforming the data\n",
    "    table = table.melt(id_vars=['ANO', 'COMBUSTÍVEL', 'ESTADO'],\n",
    "                       value_vars=months, var_name='MONTH',\n",
    "                       value_name='volume')\n",
    "    table['month_int'] = table.apply(lambda x: months_to_int(x['MONTH']), axis=1)\n",
    "    table['year_month'] = table.apply(lambda x: dt.datetime(x['ANO'], x['month_int'], 1), axis=1)\n",
    "    table.rename({'COMBUSTÍVEL': 'product', 'ESTADO': 'uf'}, inplace=True, axis=1)\n",
    "    table['unit'] = unit\n",
    "    table['created_at'] = pd.Timestamp.now()\n",
    "    table = table[['year_month', 'uf', 'product', 'unit', 'volume', 'created_at']]\n",
    "\n",
    "    return table\n",
    "\n"
   ],
   "metadata": {
    "collapsed": false,
    "ExecuteTime": {
     "start_time": "2023-04-09T17:07:30.595234Z",
     "end_time": "2023-04-09T17:07:30.595579Z"
    }
   }
  },
  {
   "cell_type": "code",
   "execution_count": 20,
   "outputs": [],
   "source": [
    "df1 = transform(df1b)"
   ],
   "metadata": {
    "collapsed": false,
    "ExecuteTime": {
     "start_time": "2023-04-09T17:07:30.595710Z",
     "end_time": "2023-04-09T17:07:31.563265Z"
    }
   }
  },
  {
   "cell_type": "markdown",
   "source": [
    "QUEROSENE DE AVIAÇÃO (m3)\t2020\tREGIÃO NORTE\tRONDÔNIA\n",
    "\n",
    "COMBUSTÍVEL\tANO\tREGIÃO\tESTADO\n"
   ],
   "metadata": {
    "collapsed": false
   }
  },
  {
   "cell_type": "code",
   "execution_count": 29,
   "outputs": [
    {
     "data": {
      "text/plain": "year_month    datetime64[ns]\nuf                    object\nproduct               object\nunit                  object\nvolume               float64\ncreated_at    datetime64[ns]\ndtype: object"
     },
     "execution_count": 29,
     "metadata": {},
     "output_type": "execute_result"
    }
   ],
   "source": [
    "df1[(df1['product']=='QUEROSENE DE AVIAÇÃO (m3)') & (df1['uf']=='RONDÔNIA') & (df1['year_month']==dt.datetime(2020, 3, 1))].dtypes"
   ],
   "metadata": {
    "collapsed": false,
    "ExecuteTime": {
     "start_time": "2023-04-09T17:14:50.562206Z",
     "end_time": "2023-04-09T17:14:50.577299Z"
    }
   }
  },
  {
   "cell_type": "code",
   "execution_count": 30,
   "outputs": [],
   "source": [
    "pd_df = df1.where((pd.notnull(df1)), None)"
   ],
   "metadata": {
    "collapsed": false,
    "ExecuteTime": {
     "start_time": "2023-04-09T17:17:19.268310Z",
     "end_time": "2023-04-09T17:17:19.288991Z"
    }
   }
  },
  {
   "cell_type": "code",
   "execution_count": 33,
   "outputs": [
    {
     "data": {
      "text/plain": "      year_month        uf                    product unit  volume  \\\n11313 2020-03-01  RONDÔNIA  QUEROSENE DE AVIAÇÃO (m3)   m3     0.0   \n\n                      created_at  \n11313 2023-04-09 17:07:31.555311  ",
      "text/html": "<div>\n<style scoped>\n    .dataframe tbody tr th:only-of-type {\n        vertical-align: middle;\n    }\n\n    .dataframe tbody tr th {\n        vertical-align: top;\n    }\n\n    .dataframe thead th {\n        text-align: right;\n    }\n</style>\n<table border=\"1\" class=\"dataframe\">\n  <thead>\n    <tr style=\"text-align: right;\">\n      <th></th>\n      <th>year_month</th>\n      <th>uf</th>\n      <th>product</th>\n      <th>unit</th>\n      <th>volume</th>\n      <th>created_at</th>\n    </tr>\n  </thead>\n  <tbody>\n    <tr>\n      <th>11313</th>\n      <td>2020-03-01</td>\n      <td>RONDÔNIA</td>\n      <td>QUEROSENE DE AVIAÇÃO (m3)</td>\n      <td>m3</td>\n      <td>0.0</td>\n      <td>2023-04-09 17:07:31.555311</td>\n    </tr>\n  </tbody>\n</table>\n</div>"
     },
     "execution_count": 33,
     "metadata": {},
     "output_type": "execute_result"
    }
   ],
   "source": [
    "pd_df[(pd_df['product']=='QUEROSENE DE AVIAÇÃO (m3)') & (pd_df['uf']=='RONDÔNIA') & (pd_df['year_month']==dt.datetime(2020, 3, 1))]"
   ],
   "metadata": {
    "collapsed": false,
    "ExecuteTime": {
     "start_time": "2023-04-09T17:22:42.158400Z",
     "end_time": "2023-04-09T17:22:42.182781Z"
    }
   }
  },
  {
   "cell_type": "code",
   "execution_count": 32,
   "outputs": [],
   "source": [
    "pd_df = df1.fillna(0)"
   ],
   "metadata": {
    "collapsed": false,
    "ExecuteTime": {
     "start_time": "2023-04-09T17:22:38.227693Z",
     "end_time": "2023-04-09T17:22:38.724243Z"
    }
   }
  },
  {
   "cell_type": "code",
   "execution_count": null,
   "outputs": [],
   "source": [],
   "metadata": {
    "collapsed": false
   }
  }
 ],
 "metadata": {
  "kernelspec": {
   "display_name": "Python 3",
   "language": "python",
   "name": "python3"
  },
  "language_info": {
   "codemirror_mode": {
    "name": "ipython",
    "version": 2
   },
   "file_extension": ".py",
   "mimetype": "text/x-python",
   "name": "python",
   "nbconvert_exporter": "python",
   "pygments_lexer": "ipython2",
   "version": "2.7.6"
  }
 },
 "nbformat": 4,
 "nbformat_minor": 0
}
